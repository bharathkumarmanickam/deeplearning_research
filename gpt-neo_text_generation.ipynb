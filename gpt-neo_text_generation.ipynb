{
  "nbformat": 4,
  "nbformat_minor": 0,
  "metadata": {
    "colab": {
      "name": "gpt_text_generation.ipynb",
      "provenance": [],
      "authorship_tag": "ABX9TyPT0wJxRZJtCD1VMYf4/S6s"
    },
    "kernelspec": {
      "name": "python3",
      "display_name": "Python 3"
    },
    "language_info": {
      "name": "python"
    }
  },
  "cells": [
    {
      "cell_type": "markdown",
      "metadata": {
        "id": "jdl9rdm5JZrC"
      },
      "source": [
        "# Installing Dependencies\n"
      ]
    },
    {
      "cell_type": "code",
      "metadata": {
        "id": "gKClMc2bJoM_"
      },
      "source": [
        "!pip3 install torch==1.9.1+cu111 torchvision==0.10.1+cu111 torchaudio==0.9.1 -f https://download.pytorch.org/whl/torch_stable.html"
      ],
      "execution_count": null,
      "outputs": []
    },
    {
      "cell_type": "code",
      "metadata": {
        "id": "OfaqVE9PKeer"
      },
      "source": [
        "!pip install transformers "
      ],
      "execution_count": null,
      "outputs": []
    },
    {
      "cell_type": "code",
      "metadata": {
        "id": "tNl0s37uK6Jb"
      },
      "source": [
        "from transformers import pipeline #importing libraries"
      ],
      "execution_count": 4,
      "outputs": []
    },
    {
      "cell_type": "markdown",
      "metadata": {
        "id": "jL5nCHQ5Lkmv"
      },
      "source": [
        "## Generating mechanism"
      ]
    },
    {
      "cell_type": "code",
      "metadata": {
        "id": "kyOrUQJAO0vY"
      },
      "source": [
        "from transformers import GPTNeoForCausalLM, GPT2Tokenizer\n",
        "model = GPTNeoForCausalLM.from_pretrained(\"EleutherAI/gpt-neo-1.3B\")\n",
        "tokenizer = GPT2Tokenizer.from_pretrained(\"EleutherAI/gpt-neo-1.3B\")\n"
      ],
      "execution_count": 1,
      "outputs": []
    },
    {
      "cell_type": "code",
      "metadata": {
        "colab": {
          "base_uri": "https://localhost:8080/"
        },
        "id": "g45tfg8lRFi3",
        "outputId": "8b7cf013-17b8-485b-a6ea-5433f27de7a3"
      },
      "source": [
        "prompt = \"How tony stark invented the iron man suits ?\"\n",
        "\n",
        "input_ids = tokenizer(prompt, return_tensors=\"pt\").input_ids\n",
        "\n",
        "gen_tokens = model.generate(input_ids, do_sample=True, temperature=0.9, max_length=100,)\n",
        "gen_text = tokenizer.batch_decode(gen_tokens)[0]"
      ],
      "execution_count": 7,
      "outputs": [
        {
          "output_type": "stream",
          "name": "stderr",
          "text": [
            "Setting `pad_token_id` to `eos_token_id`:50256 for open-end generation.\n"
          ]
        }
      ]
    },
    {
      "cell_type": "code",
      "metadata": {
        "colab": {
          "base_uri": "https://localhost:8080/"
        },
        "id": "W5EsKy1nSdk1",
        "outputId": "0b8efeb6-3dd6-468a-a97d-7fe701dc5236"
      },
      "source": [
        "print(gen_text)"
      ],
      "execution_count": 8,
      "outputs": [
        {
          "output_type": "stream",
          "name": "stdout",
          "text": [
            "How tony stark invented the iron man suits?\n",
            "\n",
            "Hey guys i went over to pick up some iron man suits cause i hate being asked about iron man and the man suits. I mean I feel like I want to get rid of my iron man suit as soon as possible. Can anyone give me a good reason for why i should even wear an iron man suit?\n",
            "\n",
            "I have to say it: No I don't want to wear an Ironman suit and be asked about it.\n"
          ]
        }
      ]
    }
  ]
}